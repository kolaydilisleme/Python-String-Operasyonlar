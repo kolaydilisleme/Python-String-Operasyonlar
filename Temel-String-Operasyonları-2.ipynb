{
 "cells": [
  {
   "cell_type": "markdown",
   "id": "ef387801",
   "metadata": {},
   "source": [
    "# Temel String Operasyonları - Part 2"
   ]
  },
  {
   "cell_type": "markdown",
   "id": "4c405a9b",
   "metadata": {},
   "source": [
    "### 2.1. Hazır Basit Metin Fonksiyonları"
   ]
  },
  {
   "cell_type": "code",
   "execution_count": 1,
   "id": "83204557",
   "metadata": {},
   "outputs": [],
   "source": [
    "alpha_text = \"merhaba\"\n",
    "num_text = \"1515145564879\"\n",
    "alpha_num_text = \"Merhaba454158\"\n",
    "special_char_text = \".,_--!'^+%&'\""
   ]
  },
  {
   "cell_type": "markdown",
   "id": "fb796d39",
   "metadata": {},
   "source": [
    "**İfade alfabetik mi?**"
   ]
  },
  {
   "cell_type": "code",
   "execution_count": 2,
   "id": "18cdc304",
   "metadata": {},
   "outputs": [
    {
     "data": {
      "text/plain": [
       "True"
      ]
     },
     "execution_count": 2,
     "metadata": {},
     "output_type": "execute_result"
    }
   ],
   "source": [
    "alpha_text.isalpha()"
   ]
  },
  {
   "cell_type": "code",
   "execution_count": 3,
   "id": "6bfd9706",
   "metadata": {},
   "outputs": [
    {
     "data": {
      "text/plain": [
       "False"
      ]
     },
     "execution_count": 3,
     "metadata": {},
     "output_type": "execute_result"
    }
   ],
   "source": [
    "num_text.isalpha()"
   ]
  },
  {
   "cell_type": "code",
   "execution_count": 4,
   "id": "24a62e48",
   "metadata": {},
   "outputs": [
    {
     "data": {
      "text/plain": [
       "False"
      ]
     },
     "execution_count": 4,
     "metadata": {},
     "output_type": "execute_result"
    }
   ],
   "source": [
    "alpha_num_text.isalpha()"
   ]
  },
  {
   "cell_type": "code",
   "execution_count": 5,
   "id": "91105a52",
   "metadata": {
    "scrolled": true
   },
   "outputs": [
    {
     "data": {
      "text/plain": [
       "False"
      ]
     },
     "execution_count": 5,
     "metadata": {},
     "output_type": "execute_result"
    }
   ],
   "source": [
    "special_char_text.isalpha()"
   ]
  },
  {
   "cell_type": "markdown",
   "id": "8bb5fbd3",
   "metadata": {},
   "source": [
    "**İfade numerik mi?**"
   ]
  },
  {
   "cell_type": "code",
   "execution_count": 6,
   "id": "8a1d1e87",
   "metadata": {},
   "outputs": [
    {
     "data": {
      "text/plain": [
       "False"
      ]
     },
     "execution_count": 6,
     "metadata": {},
     "output_type": "execute_result"
    }
   ],
   "source": [
    "alpha_text.isnumeric()"
   ]
  },
  {
   "cell_type": "code",
   "execution_count": 7,
   "id": "12bae25c",
   "metadata": {},
   "outputs": [
    {
     "data": {
      "text/plain": [
       "True"
      ]
     },
     "execution_count": 7,
     "metadata": {},
     "output_type": "execute_result"
    }
   ],
   "source": [
    "num_text.isnumeric()"
   ]
  },
  {
   "cell_type": "code",
   "execution_count": 8,
   "id": "deca7738",
   "metadata": {},
   "outputs": [
    {
     "data": {
      "text/plain": [
       "False"
      ]
     },
     "execution_count": 8,
     "metadata": {},
     "output_type": "execute_result"
    }
   ],
   "source": [
    "alpha_num_text.isnumeric()"
   ]
  },
  {
   "cell_type": "code",
   "execution_count": 9,
   "id": "b9015976",
   "metadata": {},
   "outputs": [
    {
     "data": {
      "text/plain": [
       "False"
      ]
     },
     "execution_count": 9,
     "metadata": {},
     "output_type": "execute_result"
    }
   ],
   "source": [
    "special_char_text.isnumeric()"
   ]
  },
  {
   "cell_type": "markdown",
   "id": "267e67be",
   "metadata": {},
   "source": [
    "**İfade alfabetik ve numerik mi?**"
   ]
  },
  {
   "cell_type": "code",
   "execution_count": 10,
   "id": "d771f5e7",
   "metadata": {},
   "outputs": [
    {
     "data": {
      "text/plain": [
       "True"
      ]
     },
     "execution_count": 10,
     "metadata": {},
     "output_type": "execute_result"
    }
   ],
   "source": [
    "alpha_text.isalnum()"
   ]
  },
  {
   "cell_type": "code",
   "execution_count": 11,
   "id": "b5a179de",
   "metadata": {},
   "outputs": [
    {
     "data": {
      "text/plain": [
       "True"
      ]
     },
     "execution_count": 11,
     "metadata": {},
     "output_type": "execute_result"
    }
   ],
   "source": [
    "num_text.isalnum()"
   ]
  },
  {
   "cell_type": "code",
   "execution_count": 12,
   "id": "e251b7be",
   "metadata": {},
   "outputs": [
    {
     "data": {
      "text/plain": [
       "True"
      ]
     },
     "execution_count": 12,
     "metadata": {},
     "output_type": "execute_result"
    }
   ],
   "source": [
    "alpha_num_text.isalnum()"
   ]
  },
  {
   "cell_type": "code",
   "execution_count": 13,
   "id": "8332430c",
   "metadata": {},
   "outputs": [
    {
     "data": {
      "text/plain": [
       "False"
      ]
     },
     "execution_count": 13,
     "metadata": {},
     "output_type": "execute_result"
    }
   ],
   "source": [
    "special_char_text.isalnum()"
   ]
  },
  {
   "cell_type": "markdown",
   "id": "093a1d92",
   "metadata": {},
   "source": [
    "Başlama durumlarını kontrol etmek."
   ]
  },
  {
   "cell_type": "code",
   "execution_count": 14,
   "id": "958ab684",
   "metadata": {},
   "outputs": [],
   "source": [
    "message_1 = \"Merhaba Dünya!\"\n",
    "message_2 = \"Merhaba İnsan.\""
   ]
  },
  {
   "cell_type": "code",
   "execution_count": 15,
   "id": "db751496",
   "metadata": {},
   "outputs": [
    {
     "data": {
      "text/plain": [
       "True"
      ]
     },
     "execution_count": 15,
     "metadata": {},
     "output_type": "execute_result"
    }
   ],
   "source": [
    "message_1.startswith(\"M\")"
   ]
  },
  {
   "cell_type": "code",
   "execution_count": 16,
   "id": "548f44eb",
   "metadata": {},
   "outputs": [
    {
     "data": {
      "text/plain": [
       "True"
      ]
     },
     "execution_count": 16,
     "metadata": {},
     "output_type": "execute_result"
    }
   ],
   "source": [
    "message_1.startswith(\"Merhaba\")"
   ]
  },
  {
   "cell_type": "code",
   "execution_count": 17,
   "id": "4a1928b8",
   "metadata": {},
   "outputs": [
    {
     "data": {
      "text/plain": [
       "False"
      ]
     },
     "execution_count": 17,
     "metadata": {},
     "output_type": "execute_result"
    }
   ],
   "source": [
    "message_1.startswith(\"Merhabalar\")"
   ]
  },
  {
   "cell_type": "markdown",
   "id": "88f9555a",
   "metadata": {},
   "source": [
    "Bitme durumlarını kontrol etmek."
   ]
  },
  {
   "cell_type": "code",
   "execution_count": 18,
   "id": "0bd43713",
   "metadata": {},
   "outputs": [
    {
     "data": {
      "text/plain": [
       "True"
      ]
     },
     "execution_count": 18,
     "metadata": {},
     "output_type": "execute_result"
    }
   ],
   "source": [
    "message_1.endswith(\"!\")"
   ]
  },
  {
   "cell_type": "code",
   "execution_count": 19,
   "id": "d42e40bb",
   "metadata": {},
   "outputs": [
    {
     "data": {
      "text/plain": [
       "True"
      ]
     },
     "execution_count": 19,
     "metadata": {},
     "output_type": "execute_result"
    }
   ],
   "source": [
    "message_1.endswith(\"Dünya!\")"
   ]
  },
  {
   "cell_type": "code",
   "execution_count": 20,
   "id": "44d0864a",
   "metadata": {},
   "outputs": [
    {
     "data": {
      "text/plain": [
       "False"
      ]
     },
     "execution_count": 20,
     "metadata": {},
     "output_type": "execute_result"
    }
   ],
   "source": [
    "message_1.endswith(\"Selam\")"
   ]
  },
  {
   "cell_type": "markdown",
   "id": "6207ebc3",
   "metadata": {},
   "source": [
    "Eleman sayısını yazdıralım."
   ]
  },
  {
   "cell_type": "markdown",
   "id": "2ca42da4",
   "metadata": {},
   "source": [
    "Kaç adet \"a\" var?"
   ]
  },
  {
   "cell_type": "code",
   "execution_count": 21,
   "id": "cf48fda4",
   "metadata": {},
   "outputs": [
    {
     "data": {
      "text/plain": [
       "'Merhaba Dünya!'"
      ]
     },
     "execution_count": 21,
     "metadata": {},
     "output_type": "execute_result"
    }
   ],
   "source": [
    "message_1"
   ]
  },
  {
   "cell_type": "code",
   "execution_count": 22,
   "id": "a11e8840",
   "metadata": {},
   "outputs": [
    {
     "data": {
      "text/plain": [
       "3"
      ]
     },
     "execution_count": 22,
     "metadata": {},
     "output_type": "execute_result"
    }
   ],
   "source": [
    "message_1.count(\"a\")"
   ]
  },
  {
   "cell_type": "markdown",
   "id": "34faddc5",
   "metadata": {},
   "source": [
    "Metni tamamen küçük harflere çevirelim."
   ]
  },
  {
   "cell_type": "code",
   "execution_count": 23,
   "id": "de0a234c",
   "metadata": {},
   "outputs": [
    {
     "data": {
      "text/plain": [
       "'merhaba dünya!'"
      ]
     },
     "execution_count": 23,
     "metadata": {},
     "output_type": "execute_result"
    }
   ],
   "source": [
    "\"Merhaba Dünya!\".lower()"
   ]
  },
  {
   "cell_type": "markdown",
   "id": "b1df6c17",
   "metadata": {},
   "source": [
    "Metni tamamen büyük harflere çevirelim."
   ]
  },
  {
   "cell_type": "code",
   "execution_count": 24,
   "id": "a9bb52af",
   "metadata": {},
   "outputs": [
    {
     "data": {
      "text/plain": [
       "'MERHABA DÜNYA!'"
      ]
     },
     "execution_count": 24,
     "metadata": {},
     "output_type": "execute_result"
    }
   ],
   "source": [
    "\"Merhaba Dünya!\".upper()"
   ]
  },
  {
   "cell_type": "markdown",
   "id": "7711bf67",
   "metadata": {},
   "source": [
    "Metni kapital forma çevirelim."
   ]
  },
  {
   "cell_type": "code",
   "execution_count": 25,
   "id": "730b7b50",
   "metadata": {},
   "outputs": [
    {
     "data": {
      "text/plain": [
       "'Merhaba dünya'"
      ]
     },
     "execution_count": 25,
     "metadata": {},
     "output_type": "execute_result"
    }
   ],
   "source": [
    "\"merhaba dünya\".capitalize()"
   ]
  },
  {
   "cell_type": "markdown",
   "id": "683e1207",
   "metadata": {},
   "source": [
    "Metni başlık formatına çevirelim."
   ]
  },
  {
   "cell_type": "code",
   "execution_count": 26,
   "id": "4f9d1133",
   "metadata": {},
   "outputs": [
    {
     "data": {
      "text/plain": [
       "'Merhaba Dünya Hoşgeldin!'"
      ]
     },
     "execution_count": 26,
     "metadata": {},
     "output_type": "execute_result"
    }
   ],
   "source": [
    "\"merhaba dünya hoşgeldin!\".title()"
   ]
  },
  {
   "cell_type": "markdown",
   "id": "2abc4311",
   "metadata": {},
   "source": [
    "Metindeki büyük harfleri küçük, küçük harfleri büyük harfe dönüştürelim."
   ]
  },
  {
   "cell_type": "code",
   "execution_count": 27,
   "id": "e10b8910",
   "metadata": {},
   "outputs": [
    {
     "data": {
      "text/plain": [
       "'mERHABA dÜNYA!'"
      ]
     },
     "execution_count": 27,
     "metadata": {},
     "output_type": "execute_result"
    }
   ],
   "source": [
    "\"Merhaba Dünya!\".swapcase()"
   ]
  },
  {
   "cell_type": "markdown",
   "id": "11d9dee4",
   "metadata": {},
   "source": [
    "Metin tamamen küçük harflerden mi oluşuyor diye sorgulayalım?"
   ]
  },
  {
   "cell_type": "code",
   "execution_count": 28,
   "id": "ed353b93",
   "metadata": {},
   "outputs": [
    {
     "data": {
      "text/plain": [
       "True"
      ]
     },
     "execution_count": 28,
     "metadata": {},
     "output_type": "execute_result"
    }
   ],
   "source": [
    "\"merhaba dünya\".islower()"
   ]
  },
  {
   "cell_type": "markdown",
   "id": "e8c6204f",
   "metadata": {},
   "source": [
    "Metin tamamen büyük harflerden mi oluşuyor diye sorgulayalım?"
   ]
  },
  {
   "cell_type": "code",
   "execution_count": 29,
   "id": "f59231a1",
   "metadata": {},
   "outputs": [
    {
     "data": {
      "text/plain": [
       "True"
      ]
     },
     "execution_count": 29,
     "metadata": {},
     "output_type": "execute_result"
    }
   ],
   "source": [
    "\"MERHABA DÜNYA!\".isupper()"
   ]
  },
  {
   "cell_type": "markdown",
   "id": "77bf6ce0",
   "metadata": {},
   "source": [
    "Metni küçük formda alfabetik olarak sıralayalım."
   ]
  },
  {
   "cell_type": "code",
   "execution_count": 30,
   "id": "61969abe",
   "metadata": {},
   "outputs": [
    {
     "data": {
      "text/plain": [
       "[' ', '!', 'a', 'a', 'a', 'b', 'd', 'e', 'h', 'm', 'n', 'r', 'y', 'ü']"
      ]
     },
     "execution_count": 30,
     "metadata": {},
     "output_type": "execute_result"
    }
   ],
   "source": [
    "sorted(message_1.lower())"
   ]
  },
  {
   "cell_type": "markdown",
   "id": "a02942c3",
   "metadata": {},
   "source": [
    "Alfabetik olarak tersten sıralayalım."
   ]
  },
  {
   "cell_type": "code",
   "execution_count": 31,
   "id": "0a39c794",
   "metadata": {},
   "outputs": [
    {
     "data": {
      "text/plain": [
       "['ü', 'y', 'r', 'n', 'm', 'h', 'e', 'd', 'b', 'a', 'a', 'a', '!', ' ']"
      ]
     },
     "execution_count": 31,
     "metadata": {},
     "output_type": "execute_result"
    }
   ],
   "source": [
    "sorted(message_1.lower(), reverse=True)"
   ]
  },
  {
   "cell_type": "markdown",
   "id": "5134c4c9",
   "metadata": {},
   "source": [
    "Aşağıdaki metni boşluk karakterine göre parçalara ayrıştıralım."
   ]
  },
  {
   "cell_type": "code",
   "execution_count": 32,
   "id": "0aa50e80",
   "metadata": {},
   "outputs": [],
   "source": [
    "text = \"Başka bir dünya yok, başka bir yaşam biçimi var.\""
   ]
  },
  {
   "cell_type": "code",
   "execution_count": 33,
   "id": "9efff4ed",
   "metadata": {},
   "outputs": [
    {
     "data": {
      "text/plain": [
       "['Başka', 'bir', 'dünya', 'yok,', 'başka', 'bir', 'yaşam', 'biçimi', 'var.']"
      ]
     },
     "execution_count": 33,
     "metadata": {},
     "output_type": "execute_result"
    }
   ],
   "source": [
    "text.split(\" \")"
   ]
  },
  {
   "cell_type": "markdown",
   "id": "037b6640",
   "metadata": {},
   "source": [
    "Virgüle göre parçalara ayrıştıralım."
   ]
  },
  {
   "cell_type": "code",
   "execution_count": 34,
   "id": "7fafada4",
   "metadata": {},
   "outputs": [
    {
     "data": {
      "text/plain": [
       "'Başka bir dünya yok, başka bir yaşam biçimi var.'"
      ]
     },
     "execution_count": 34,
     "metadata": {},
     "output_type": "execute_result"
    }
   ],
   "source": [
    "text"
   ]
  },
  {
   "cell_type": "code",
   "execution_count": 35,
   "id": "239431f7",
   "metadata": {},
   "outputs": [
    {
     "data": {
      "text/plain": [
       "['Başka bir dünya yok', ' başka bir yaşam biçimi var.']"
      ]
     },
     "execution_count": 35,
     "metadata": {},
     "output_type": "execute_result"
    }
   ],
   "source": [
    "text.split(\",\")"
   ]
  },
  {
   "cell_type": "markdown",
   "id": "15310e39",
   "metadata": {},
   "source": [
    "Bazı karakterleri budamak istersek."
   ]
  },
  {
   "cell_type": "code",
   "execution_count": 36,
   "id": "400483f8",
   "metadata": {},
   "outputs": [],
   "source": [
    "text = \" bu metinde başta ve sonda gereksiz boşluklar var \""
   ]
  },
  {
   "cell_type": "code",
   "execution_count": 37,
   "id": "2609dc74",
   "metadata": {},
   "outputs": [
    {
     "data": {
      "text/plain": [
       "'bu metinde başta ve sonda gereksiz boşluklar var'"
      ]
     },
     "execution_count": 37,
     "metadata": {},
     "output_type": "execute_result"
    }
   ],
   "source": [
    "text.strip()"
   ]
  },
  {
   "cell_type": "code",
   "execution_count": 38,
   "id": "91a71ea4",
   "metadata": {},
   "outputs": [],
   "source": [
    "text = \"***bu metinde başta ve sonda yıldızlar var**\""
   ]
  },
  {
   "cell_type": "code",
   "execution_count": 39,
   "id": "fd6828ba",
   "metadata": {},
   "outputs": [
    {
     "data": {
      "text/plain": [
       "'bu metinde başta ve sonda yıldızlar var'"
      ]
     },
     "execution_count": 39,
     "metadata": {},
     "output_type": "execute_result"
    }
   ],
   "source": [
    "text.strip(\"*\")"
   ]
  },
  {
   "cell_type": "markdown",
   "id": "56e89f7c",
   "metadata": {},
   "source": [
    "Sadece sağdaki yıldızları buda."
   ]
  },
  {
   "cell_type": "code",
   "execution_count": 40,
   "id": "cf069d72",
   "metadata": {},
   "outputs": [
    {
     "data": {
      "text/plain": [
       "'***bu metinde başta ve sonda yıldızlar var'"
      ]
     },
     "execution_count": 40,
     "metadata": {},
     "output_type": "execute_result"
    }
   ],
   "source": [
    "text.rstrip(\"*\")"
   ]
  },
  {
   "cell_type": "markdown",
   "id": "3d05219f",
   "metadata": {},
   "source": [
    "Sadece soldaki yıldızları buda."
   ]
  },
  {
   "cell_type": "code",
   "execution_count": 41,
   "id": "35df4210",
   "metadata": {},
   "outputs": [
    {
     "data": {
      "text/plain": [
       "'bu metinde başta ve sonda yıldızlar var**'"
      ]
     },
     "execution_count": 41,
     "metadata": {},
     "output_type": "execute_result"
    }
   ],
   "source": [
    "text.lstrip(\"*\")"
   ]
  },
  {
   "cell_type": "markdown",
   "id": "b0be5b08",
   "metadata": {},
   "source": [
    "Elimizde liste formatında bir metin olduğunu farz edelim ve string olarak birleştirelim."
   ]
  },
  {
   "cell_type": "code",
   "execution_count": 42,
   "id": "821deb18",
   "metadata": {},
   "outputs": [
    {
     "name": "stdout",
     "output_type": "stream",
     "text": [
      "merhaba dünya hoşgeldin\n"
     ]
    }
   ],
   "source": [
    "word_list = [\"merhaba\", \"dünya\", \"hoşgeldin\"]\n",
    "\n",
    "print(\" \".join(word_list))"
   ]
  },
  {
   "cell_type": "markdown",
   "id": "72cb61ef",
   "metadata": {},
   "source": [
    "Boşluk dışında bir karakter ile de ilerlenebilir."
   ]
  },
  {
   "cell_type": "code",
   "execution_count": 43,
   "id": "aefe39d8",
   "metadata": {},
   "outputs": [
    {
     "name": "stdout",
     "output_type": "stream",
     "text": [
      "merhaba*dünya*hoşgeldin\n"
     ]
    }
   ],
   "source": [
    "print(\"*\".join(word_list))"
   ]
  }
 ],
 "metadata": {
  "kernelspec": {
   "display_name": "Python 3 (ipykernel)",
   "language": "python",
   "name": "python3"
  },
  "language_info": {
   "codemirror_mode": {
    "name": "ipython",
    "version": 3
   },
   "file_extension": ".py",
   "mimetype": "text/x-python",
   "name": "python",
   "nbconvert_exporter": "python",
   "pygments_lexer": "ipython3",
   "version": "3.8.10"
  }
 },
 "nbformat": 4,
 "nbformat_minor": 5
}
