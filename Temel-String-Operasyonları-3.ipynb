{
 "cells": [
  {
   "cell_type": "markdown",
   "id": "afeb4dc4",
   "metadata": {},
   "source": [
    "# Temel String Operasyonları - Part 3"
   ]
  },
  {
   "cell_type": "markdown",
   "id": "4e2d2265",
   "metadata": {},
   "source": [
    "### 3.1. Metin Değişiklikleri"
   ]
  },
  {
   "cell_type": "code",
   "execution_count": 1,
   "id": "a1cab8c3",
   "metadata": {},
   "outputs": [],
   "source": [
    "text = \"Başka bir dünya yok, başka bir yaşam biçimi var.\""
   ]
  },
  {
   "cell_type": "markdown",
   "id": "859fcfc7",
   "metadata": {},
   "source": [
    "Tüm \"a\" karakterlerini \"*\" ile değiştirelim."
   ]
  },
  {
   "cell_type": "code",
   "execution_count": 2,
   "id": "b05bfd65",
   "metadata": {
    "scrolled": true
   },
   "outputs": [
    {
     "data": {
      "text/plain": [
       "'B*şk* bir düny* yok, b*şk* bir y*ş*m biçimi v*r.'"
      ]
     },
     "execution_count": 2,
     "metadata": {},
     "output_type": "execute_result"
    }
   ],
   "source": [
    "text.replace(\"a\", \"*\")"
   ]
  },
  {
   "cell_type": "markdown",
   "id": "a153d6d5",
   "metadata": {},
   "source": [
    "\"bir\" kelimesini \"iki\" kelimesi ile değiştirelim."
   ]
  },
  {
   "cell_type": "code",
   "execution_count": 3,
   "id": "5a85013f",
   "metadata": {
    "scrolled": false
   },
   "outputs": [
    {
     "data": {
      "text/plain": [
       "'Başka iki dünya yok, başka iki yaşam biçimi var.'"
      ]
     },
     "execution_count": 3,
     "metadata": {},
     "output_type": "execute_result"
    }
   ],
   "source": [
    "text.replace(\"bir\", \"iki\")"
   ]
  },
  {
   "cell_type": "markdown",
   "id": "04320a01",
   "metadata": {},
   "source": [
    "Türkçe karakterleri ingilizce benzerleriyle değiştirmek istersek, öncelikle temizleyici sözlüğü elde edeceğiz."
   ]
  },
  {
   "cell_type": "code",
   "execution_count": 4,
   "id": "fb50f844",
   "metadata": {},
   "outputs": [
    {
     "data": {
      "text/plain": [
       "{231: 99,\n",
       " 199: 67,\n",
       " 287: 103,\n",
       " 286: 71,\n",
       " 305: 105,\n",
       " 304: 73,\n",
       " 246: 111,\n",
       " 214: 79,\n",
       " 351: 115,\n",
       " 350: 83,\n",
       " 252: 117,\n",
       " 220: 85}"
      ]
     },
     "execution_count": 4,
     "metadata": {},
     "output_type": "execute_result"
    }
   ],
   "source": [
    "old_letters = \"çÇğĞıİöÖşŞüÜ\"\n",
    "new_letters = \"cCgGiIoOsSuU\"\n",
    "\n",
    "cleaner_dict = str.maketrans(old_letters, new_letters)\n",
    "cleaner_dict"
   ]
  },
  {
   "cell_type": "markdown",
   "id": "6602de07",
   "metadata": {},
   "source": [
    "Uygularsak türkçe karakterlerden kurtulmuş olduk."
   ]
  },
  {
   "cell_type": "code",
   "execution_count": 6,
   "id": "2fb8c2ca",
   "metadata": {},
   "outputs": [
    {
     "data": {
      "text/plain": [
       "'Baska bir dunya yok, baska bir yasam bicimi var.'"
      ]
     },
     "execution_count": 6,
     "metadata": {},
     "output_type": "execute_result"
    }
   ],
   "source": [
    "text.translate(cleaner_dict)"
   ]
  },
  {
   "cell_type": "markdown",
   "id": "fcdd2141",
   "metadata": {},
   "source": [
    "Metin içerisinde alt metin varlığını sorgulayalım."
   ]
  },
  {
   "cell_type": "code",
   "execution_count": 7,
   "id": "fa08bc45",
   "metadata": {},
   "outputs": [
    {
     "data": {
      "text/plain": [
       "True"
      ]
     },
     "execution_count": 7,
     "metadata": {},
     "output_type": "execute_result"
    }
   ],
   "source": [
    "\"bir\" in text"
   ]
  },
  {
   "cell_type": "markdown",
   "id": "516b5250",
   "metadata": {},
   "source": [
    "Metin içerisindeki geçen kelimenin ilk indeksini alalım."
   ]
  },
  {
   "cell_type": "code",
   "execution_count": 8,
   "id": "555760db",
   "metadata": {},
   "outputs": [
    {
     "data": {
      "text/plain": [
       "10"
      ]
     },
     "execution_count": 8,
     "metadata": {},
     "output_type": "execute_result"
    }
   ],
   "source": [
    "text.find(\"dünya\")"
   ]
  },
  {
   "cell_type": "markdown",
   "id": "e96128df",
   "metadata": {},
   "source": [
    "Olmayan bir içeriğe denk gelirsek."
   ]
  },
  {
   "cell_type": "code",
   "execution_count": 9,
   "id": "f91eac42",
   "metadata": {},
   "outputs": [
    {
     "data": {
      "text/plain": [
       "-1"
      ]
     },
     "execution_count": 9,
     "metadata": {},
     "output_type": "execute_result"
    }
   ],
   "source": [
    "text.find(\"yalan\")"
   ]
  },
  {
   "cell_type": "markdown",
   "id": "b194190b",
   "metadata": {},
   "source": [
    "İsimlerden oluşan seri oluşturalım ve \"li\" alt metni geçenleri filtreleyelim."
   ]
  },
  {
   "cell_type": "code",
   "execution_count": 10,
   "id": "2132d317",
   "metadata": {},
   "outputs": [],
   "source": [
    "import pandas as pd\n",
    "\n",
    "name_serie = pd.Series([\"ali\",\"veli\",\"selin\",\"ceylin\",\"selim\",\"murat\", \"mehmet\"])"
   ]
  },
  {
   "cell_type": "code",
   "execution_count": 11,
   "id": "9f476045",
   "metadata": {},
   "outputs": [
    {
     "data": {
      "text/plain": [
       "0     True\n",
       "1     True\n",
       "2     True\n",
       "3     True\n",
       "4     True\n",
       "5    False\n",
       "6    False\n",
       "dtype: bool"
      ]
     },
     "execution_count": 11,
     "metadata": {},
     "output_type": "execute_result"
    }
   ],
   "source": [
    "name_serie.str.contains(\"li\")"
   ]
  },
  {
   "cell_type": "code",
   "execution_count": 12,
   "id": "e9075c11",
   "metadata": {},
   "outputs": [
    {
     "data": {
      "text/plain": [
       "0       ali\n",
       "1      veli\n",
       "2     selin\n",
       "3    ceylin\n",
       "4     selim\n",
       "dtype: object"
      ]
     },
     "execution_count": 12,
     "metadata": {},
     "output_type": "execute_result"
    }
   ],
   "source": [
    "name_serie[ name_serie.str.contains(\"li\") ]"
   ]
  },
  {
   "cell_type": "markdown",
   "id": "f2cda1d1",
   "metadata": {},
   "source": [
    "Burada yapılan operasyonların büyük küçük harf duyarlı olduğunu göz önünde bulundurmakta fayda var."
   ]
  }
 ],
 "metadata": {
  "kernelspec": {
   "display_name": "Python 3 (ipykernel)",
   "language": "python",
   "name": "python3"
  },
  "language_info": {
   "codemirror_mode": {
    "name": "ipython",
    "version": 3
   },
   "file_extension": ".py",
   "mimetype": "text/x-python",
   "name": "python",
   "nbconvert_exporter": "python",
   "pygments_lexer": "ipython3",
   "version": "3.8.10"
  }
 },
 "nbformat": 4,
 "nbformat_minor": 5
}
