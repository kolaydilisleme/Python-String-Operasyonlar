{
 "cells": [
  {
   "cell_type": "markdown",
   "id": "83263220",
   "metadata": {},
   "source": [
    "# Temel String Operasyonları - Part 1"
   ]
  },
  {
   "cell_type": "markdown",
   "id": "f3bb528f",
   "metadata": {},
   "source": [
    "### 1.1 String Değişkeni ve Matematiksel Operasyonlar"
   ]
  },
  {
   "cell_type": "code",
   "execution_count": 1,
   "id": "8ef4040e",
   "metadata": {},
   "outputs": [],
   "source": [
    "message_1 = \"Merhaba Dünya!\"\n",
    "message_2 = \"Merhaba İnsan.\""
   ]
  },
  {
   "cell_type": "markdown",
   "id": "2cbf9eaf",
   "metadata": {},
   "source": [
    "Toplama yapılabilir."
   ]
  },
  {
   "cell_type": "code",
   "execution_count": 2,
   "id": "98be86e0",
   "metadata": {},
   "outputs": [
    {
     "data": {
      "text/plain": [
       "'Merhaba Dünya!Merhaba Dünya!'"
      ]
     },
     "execution_count": 2,
     "metadata": {},
     "output_type": "execute_result"
    }
   ],
   "source": [
    "message_1 + message_1"
   ]
  },
  {
   "cell_type": "code",
   "execution_count": 3,
   "id": "0ba78f7d",
   "metadata": {},
   "outputs": [
    {
     "data": {
      "text/plain": [
       "'Merhaba Dünya!Merhaba İnsan.'"
      ]
     },
     "execution_count": 3,
     "metadata": {},
     "output_type": "execute_result"
    }
   ],
   "source": [
    "message_1 + message_2"
   ]
  },
  {
   "cell_type": "markdown",
   "id": "aa2f6bcc",
   "metadata": {},
   "source": [
    "Çarpma yapılabilir."
   ]
  },
  {
   "cell_type": "code",
   "execution_count": 4,
   "id": "bc9275de",
   "metadata": {},
   "outputs": [
    {
     "data": {
      "text/plain": [
       "'Merhaba Dünya!Merhaba Dünya!Merhaba Dünya!Merhaba Dünya!Merhaba Dünya!'"
      ]
     },
     "execution_count": 4,
     "metadata": {},
     "output_type": "execute_result"
    }
   ],
   "source": [
    "message_1 * 5"
   ]
  },
  {
   "cell_type": "markdown",
   "id": "c6f896f3",
   "metadata": {},
   "source": [
    "Not : Bölme ve çıkarma yapılamaz."
   ]
  },
  {
   "cell_type": "code",
   "execution_count": 5,
   "id": "5280a98d",
   "metadata": {},
   "outputs": [],
   "source": [
    "# message_1 / 5"
   ]
  },
  {
   "cell_type": "code",
   "execution_count": 6,
   "id": "3cee02fd",
   "metadata": {},
   "outputs": [],
   "source": [
    "# message_1 - 5"
   ]
  },
  {
   "cell_type": "markdown",
   "id": "05f0120f",
   "metadata": {},
   "source": [
    "### 1.2. Metinlerde Dilimleme İşlemleri"
   ]
  },
  {
   "attachments": {
    "image.png": {
     "image/png": "[encoded data removed]"
    }
   },
   "cell_type": "markdown",
   "id": "11f0eb4c",
   "metadata": {},
   "source": [
    "![image.png](attachment:image.png)"
   ]
  },
  {
   "cell_type": "code",
   "execution_count": 7,
   "id": "bfec6bcb",
   "metadata": {},
   "outputs": [],
   "source": [
    "text = \"Başka bir dünya yok, başka bir yaşam biçimi var.\""
   ]
  },
  {
   "cell_type": "code",
   "execution_count": 8,
   "id": "adad96e0",
   "metadata": {},
   "outputs": [
    {
     "data": {
      "text/plain": [
       "'Başka bir '"
      ]
     },
     "execution_count": 8,
     "metadata": {},
     "output_type": "execute_result"
    }
   ],
   "source": [
    "text[0:10]"
   ]
  },
  {
   "cell_type": "code",
   "execution_count": 9,
   "id": "44573770",
   "metadata": {},
   "outputs": [
    {
     "data": {
      "text/plain": [
       "'dünya yok,'"
      ]
     },
     "execution_count": 9,
     "metadata": {},
     "output_type": "execute_result"
    }
   ],
   "source": [
    "text[10:20]"
   ]
  },
  {
   "cell_type": "code",
   "execution_count": 10,
   "id": "53f947b5",
   "metadata": {},
   "outputs": [
    {
     "data": {
      "text/plain": [
       "'Başka bir dünya'"
      ]
     },
     "execution_count": 10,
     "metadata": {},
     "output_type": "execute_result"
    }
   ],
   "source": [
    "text[:15]"
   ]
  },
  {
   "cell_type": "code",
   "execution_count": 11,
   "id": "9929bd86",
   "metadata": {},
   "outputs": [
    {
     "data": {
      "text/plain": [
       "' yok, başka bir yaşam biçimi var.'"
      ]
     },
     "execution_count": 11,
     "metadata": {},
     "output_type": "execute_result"
    }
   ],
   "source": [
    "text[15:]"
   ]
  },
  {
   "cell_type": "markdown",
   "id": "fc29357c",
   "metadata": {},
   "source": [
    "Metni ters yazdırmanın kolay yolu."
   ]
  },
  {
   "cell_type": "code",
   "execution_count": 12,
   "id": "605c013f",
   "metadata": {},
   "outputs": [
    {
     "data": {
      "text/plain": [
       "'.rav imiçib maşay rib akşab ,koy aynüd rib akşaB'"
      ]
     },
     "execution_count": 12,
     "metadata": {},
     "output_type": "execute_result"
    }
   ],
   "source": [
    "text[::-1]"
   ]
  },
  {
   "cell_type": "markdown",
   "id": "15bbb69b",
   "metadata": {},
   "source": [
    "Metni 2 karakter atlayarak aralıklı şekilde yazdırmak."
   ]
  },
  {
   "cell_type": "code",
   "execution_count": 13,
   "id": "243f836a",
   "metadata": {},
   "outputs": [
    {
     "data": {
      "text/plain": [
       "'Bşabrdnayk ak i aa iiivr'"
      ]
     },
     "execution_count": 13,
     "metadata": {},
     "output_type": "execute_result"
    }
   ],
   "source": [
    "text[::2]"
   ]
  },
  {
   "cell_type": "markdown",
   "id": "55c6eea7",
   "metadata": {},
   "source": [
    "### 1.3. Metinleri Yazdırma Fonksiyonu"
   ]
  },
  {
   "cell_type": "code",
   "execution_count": 14,
   "id": "2bff6ceb",
   "metadata": {},
   "outputs": [
    {
     "name": "stdout",
     "output_type": "stream",
     "text": [
      "Başka bir dünya yok, başka bir yaşam biçimi var.\n"
     ]
    }
   ],
   "source": [
    "print(text)"
   ]
  },
  {
   "cell_type": "code",
   "execution_count": 15,
   "id": "bf0b6690",
   "metadata": {},
   "outputs": [
    {
     "name": "stdout",
     "output_type": "stream",
     "text": [
      "Başka bir dünya yok, başka bir yaşam biçimi var. Merhaba Dünya!\n"
     ]
    }
   ],
   "source": [
    "print(text, message_1)"
   ]
  },
  {
   "cell_type": "code",
   "execution_count": 16,
   "id": "0ef86456",
   "metadata": {},
   "outputs": [
    {
     "name": "stdout",
     "output_type": "stream",
     "text": [
      "Başka bir dünya yok, başka bir yaşam biçimi var. /// Merhaba Dünya! /// Merhaba İnsan.\n"
     ]
    }
   ],
   "source": [
    "print(text, message_1, message_2, sep=\" /// \")"
   ]
  },
  {
   "cell_type": "markdown",
   "id": "4f32e9c1",
   "metadata": {},
   "source": [
    "### 1.4. Liste ve Metinler"
   ]
  },
  {
   "cell_type": "code",
   "execution_count": 17,
   "id": "a1317c7e",
   "metadata": {},
   "outputs": [
    {
     "name": "stdout",
     "output_type": "stream",
     "text": [
      "['selam', 'hello', 'hola']\n"
     ]
    }
   ],
   "source": [
    "word_list = [\"selam\", \"hello\", \"hola\"]\n",
    "\n",
    "print(word_list)"
   ]
  },
  {
   "cell_type": "code",
   "execution_count": 18,
   "id": "e082660a",
   "metadata": {
    "scrolled": true
   },
   "outputs": [
    {
     "name": "stdout",
     "output_type": "stream",
     "text": [
      "selam\n",
      "hello\n",
      "hola\n"
     ]
    }
   ],
   "source": [
    "for word in word_list:\n",
    "    print(word)"
   ]
  },
  {
   "cell_type": "code",
   "execution_count": 19,
   "id": "5a14eeed",
   "metadata": {},
   "outputs": [
    {
     "name": "stdout",
     "output_type": "stream",
     "text": [
      "selam !\n",
      "hello !\n",
      "hola !\n"
     ]
    }
   ],
   "source": [
    "for word in word_list:\n",
    "    print(word, \"!\")"
   ]
  },
  {
   "cell_type": "markdown",
   "id": "03f76f27",
   "metadata": {},
   "source": [
    "Metin verilerini indeksleriyle birlikte almak istersek."
   ]
  },
  {
   "cell_type": "code",
   "execution_count": 20,
   "id": "7a8080c8",
   "metadata": {},
   "outputs": [
    {
     "name": "stdout",
     "output_type": "stream",
     "text": [
      "(0, 'selam') (1, 'hello') (2, 'hola')\n"
     ]
    }
   ],
   "source": [
    "print(*enumerate(word_list))"
   ]
  },
  {
   "cell_type": "code",
   "execution_count": 21,
   "id": "2c3cee8f",
   "metadata": {},
   "outputs": [
    {
     "name": "stdout",
     "output_type": "stream",
     "text": [
      "0 - selam\n",
      "1 - hello\n",
      "2 - hola\n"
     ]
    }
   ],
   "source": [
    "for idx, word in enumerate(word_list):\n",
    "    print(idx, \"-\",word)"
   ]
  },
  {
   "cell_type": "markdown",
   "id": "d5d70a7e",
   "metadata": {},
   "source": [
    "Peki içerisine çift tırnakla mesaj yazdığımız metin de bir liste değil midir?"
   ]
  },
  {
   "cell_type": "code",
   "execution_count": 22,
   "id": "05432b8d",
   "metadata": {},
   "outputs": [
    {
     "data": {
      "text/plain": [
       "'Merhaba Dünya!'"
      ]
     },
     "execution_count": 22,
     "metadata": {},
     "output_type": "execute_result"
    }
   ],
   "source": [
    "message_1"
   ]
  },
  {
   "cell_type": "code",
   "execution_count": 23,
   "id": "def3ed60",
   "metadata": {
    "scrolled": true
   },
   "outputs": [
    {
     "name": "stdout",
     "output_type": "stream",
     "text": [
      "M\n",
      "e\n",
      "r\n",
      "h\n",
      "a\n",
      "b\n",
      "a\n",
      " \n",
      "D\n",
      "ü\n",
      "n\n",
      "y\n",
      "a\n",
      "!\n"
     ]
    }
   ],
   "source": [
    "for char in message_1:\n",
    "    print(char)"
   ]
  },
  {
   "cell_type": "markdown",
   "id": "8d7abfae",
   "metadata": {},
   "source": [
    "Hangi karakteri kaçıncı indekste?"
   ]
  },
  {
   "cell_type": "code",
   "execution_count": 24,
   "id": "076cb60d",
   "metadata": {
    "scrolled": true
   },
   "outputs": [
    {
     "name": "stdout",
     "output_type": "stream",
     "text": [
      "0 - M\n",
      "1 - e\n",
      "2 - r\n",
      "3 - h\n",
      "4 - a\n",
      "5 - b\n",
      "6 - a\n",
      "7 -  \n",
      "8 - D\n",
      "9 - ü\n",
      "10 - n\n",
      "11 - y\n",
      "12 - a\n",
      "13 - !\n"
     ]
    }
   ],
   "source": [
    "for idx, char in enumerate(message_1):\n",
    "    print(idx,\"-\",char)"
   ]
  },
  {
   "cell_type": "markdown",
   "id": "61de5665",
   "metadata": {},
   "source": [
    "**\"D\"** harfinin 8. indekste olduğunu görüyoruz, teyit edelim."
   ]
  },
  {
   "cell_type": "code",
   "execution_count": 25,
   "id": "b3924edb",
   "metadata": {},
   "outputs": [
    {
     "data": {
      "text/plain": [
       "'D'"
      ]
     },
     "execution_count": 25,
     "metadata": {},
     "output_type": "execute_result"
    }
   ],
   "source": [
    "message_1[8]"
   ]
  },
  {
   "cell_type": "markdown",
   "id": "b7164e83",
   "metadata": {},
   "source": [
    "Bu metnin son karakterinin hangi noktalama işareti olduğunu yani hangi karakter olduğunu tespit etmek istersek?"
   ]
  },
  {
   "cell_type": "markdown",
   "id": "49bec7b2",
   "metadata": {},
   "source": [
    "Önce metin kaç elemanlı onu bulmak gerekiyor."
   ]
  },
  {
   "cell_type": "code",
   "execution_count": 26,
   "id": "ba33aeda",
   "metadata": {},
   "outputs": [
    {
     "data": {
      "text/plain": [
       "14"
      ]
     },
     "execution_count": 26,
     "metadata": {},
     "output_type": "execute_result"
    }
   ],
   "source": [
    "len(message_1)"
   ]
  },
  {
   "cell_type": "markdown",
   "id": "53d25bcc",
   "metadata": {},
   "source": [
    "14 ise saymaya 0'dan başladığımıza göre 13. eleman son elemandır, yazdıralım."
   ]
  },
  {
   "cell_type": "code",
   "execution_count": 27,
   "id": "4de817ba",
   "metadata": {},
   "outputs": [
    {
     "data": {
      "text/plain": [
       "'!'"
      ]
     },
     "execution_count": 27,
     "metadata": {},
     "output_type": "execute_result"
    }
   ],
   "source": [
    "message_1[13]"
   ]
  },
  {
   "cell_type": "markdown",
   "id": "1ef110e1",
   "metadata": {},
   "source": [
    "Peki son elemana ulaşmak için her zaman metnin kaç elemanlı olduğunu bilmek mi gerekiyor? Hayır, -1. indeks de bu işe yarar."
   ]
  },
  {
   "cell_type": "code",
   "execution_count": 28,
   "id": "272e830c",
   "metadata": {},
   "outputs": [
    {
     "data": {
      "text/plain": [
       "'!'"
      ]
     },
     "execution_count": 28,
     "metadata": {},
     "output_type": "execute_result"
    }
   ],
   "source": [
    "message_1[-1]"
   ]
  },
  {
   "cell_type": "markdown",
   "id": "856c8c58",
   "metadata": {},
   "source": [
    "### 1.5. Index ve Elemanlar"
   ]
  },
  {
   "cell_type": "markdown",
   "id": "fd17e7e4",
   "metadata": {},
   "source": [
    "8. indekste ne var?"
   ]
  },
  {
   "cell_type": "code",
   "execution_count": 33,
   "id": "081aa72f",
   "metadata": {},
   "outputs": [
    {
     "data": {
      "text/plain": [
       "'D'"
      ]
     },
     "execution_count": 33,
     "metadata": {},
     "output_type": "execute_result"
    }
   ],
   "source": [
    "message_1[8]"
   ]
  },
  {
   "cell_type": "markdown",
   "id": "48c7af06",
   "metadata": {},
   "source": [
    "İlk D harfi hangi indekste?"
   ]
  },
  {
   "cell_type": "code",
   "execution_count": 35,
   "id": "802bccec",
   "metadata": {},
   "outputs": [
    {
     "data": {
      "text/plain": [
       "8"
      ]
     },
     "execution_count": 35,
     "metadata": {},
     "output_type": "execute_result"
    }
   ],
   "source": [
    "message_1.index(\"D\")"
   ]
  },
  {
   "cell_type": "code",
   "execution_count": 41,
   "id": "a21d5eb6",
   "metadata": {},
   "outputs": [
    {
     "data": {
      "text/plain": [
       "'Merhaba Dünya!'"
      ]
     },
     "execution_count": 41,
     "metadata": {},
     "output_type": "execute_result"
    }
   ],
   "source": [
    "message_1"
   ]
  },
  {
   "cell_type": "markdown",
   "id": "83187c02",
   "metadata": {},
   "source": [
    "\"a\" harfi üç kez geçiyor, sorgularsak ilk geçen yeri verecek."
   ]
  },
  {
   "cell_type": "code",
   "execution_count": 40,
   "id": "70f2e5af",
   "metadata": {},
   "outputs": [
    {
     "data": {
      "text/plain": [
       "4"
      ]
     },
     "execution_count": 40,
     "metadata": {},
     "output_type": "execute_result"
    }
   ],
   "source": [
    "message_1.index(\"a\")"
   ]
  },
  {
   "cell_type": "markdown",
   "id": "95eecc46",
   "metadata": {},
   "source": [
    "4 karakterden sonra geçen ilk \"a\" karakteri kaçıncı indekste."
   ]
  },
  {
   "cell_type": "code",
   "execution_count": 42,
   "id": "22b1a655",
   "metadata": {},
   "outputs": [
    {
     "data": {
      "text/plain": [
       "6"
      ]
     },
     "execution_count": 42,
     "metadata": {},
     "output_type": "execute_result"
    }
   ],
   "source": [
    "message_1.index(\"a\",5)"
   ]
  },
  {
   "cell_type": "markdown",
   "id": "fe6ac83f",
   "metadata": {},
   "source": [
    "6 karakterden sonra geçen ilk \"a\" karakteri kaçıncı indekste."
   ]
  },
  {
   "cell_type": "code",
   "execution_count": 43,
   "id": "00f038e8",
   "metadata": {},
   "outputs": [
    {
     "data": {
      "text/plain": [
       "12"
      ]
     },
     "execution_count": 43,
     "metadata": {},
     "output_type": "execute_result"
    }
   ],
   "source": [
    "message_1.index(\"a\",7)"
   ]
  },
  {
   "cell_type": "code",
   "execution_count": null,
   "id": "eeaba01d",
   "metadata": {},
   "outputs": [],
   "source": []
  }
 ],
 "metadata": {
  "kernelspec": {
   "display_name": "Python 3 (ipykernel)",
   "language": "python",
   "name": "python3"
  },
  "language_info": {
   "codemirror_mode": {
    "name": "ipython",
    "version": 3
   },
   "file_extension": ".py",
   "mimetype": "text/x-python",
   "name": "python",
   "nbconvert_exporter": "python",
   "pygments_lexer": "ipython3",
   "version": "3.8.10"
  }
 },
 "nbformat": 4,
 "nbformat_minor": 5
}
